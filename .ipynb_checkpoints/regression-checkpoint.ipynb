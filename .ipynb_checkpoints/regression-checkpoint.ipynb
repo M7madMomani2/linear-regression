{
 "cells": [
  {
   "cell_type": "code",
   "execution_count": 14,
   "metadata": {},
   "outputs": [],
   "source": [
    "import pandas as pd\n",
    "import numpy as np\n",
    "import matplotlib.pyplot as plt\n",
    "from sklearn.linear_model import LinearRegression\n",
    "from sklearn.model_selection import train_test_split\n"
   ]
  },
  {
   "cell_type": "code",
   "execution_count": 27,
   "metadata": {},
   "outputs": [
    {
     "name": "stdout",
     "output_type": "stream",
     "text": [
      "Data Shape: (300, 2)\n",
      "    x          y\n",
      "0  77  79.775152\n",
      "1  21  23.177279\n",
      "2  22  25.609262\n",
      "3  20  17.857388\n",
      "4  36  41.849864\n"
     ]
    }
   ],
   "source": [
    "test = pd.read_csv(\"./test.csv\")\n",
    "print(f\"Data Shape: {test.shape}\")\n",
    "print(test.head(5))\n"
   ]
  },
  {
   "cell_type": "code",
   "execution_count": 17,
   "metadata": {},
   "outputs": [
    {
     "data": {
      "text/plain": [
       "array([ 77,  21,  22,  20,  36,  15,  62,  95,  20,   5,   4,  19,  96,\n",
       "        62,  36,  15,  65,  14,  87,  69,  89,  51,  89,  27,  97,  58,\n",
       "        79,  21,  93,  27,  99,  31,  33,  80,  28,  47,  53,  69,  28,\n",
       "        33,  91,  71,  50,  76,   4,  37,  70,  68,  40,  35,  94,  88,\n",
       "        52,  31,  59,   0,  39,  64,  69,  57,  13,  72,  76,  61,  82,\n",
       "        18,  41,  50,  55,  13,  46,  13,  79,  53,  15,  28,  81,  69,\n",
       "        52,  84,  68,  27,  56,  48,  40,  39,  82, 100,  59,  43,  67,\n",
       "        38,  63,  91,  60,  14,  21,  87,  73,  32,   2,  82,  19,  74,\n",
       "        42,  12,   1,  90,  89,   0,  41,  16,  94,  97,  66,  24,  17,\n",
       "        90,  13,   0,  64,  96,  98,  12,  41,  47,  78,  20,  89,  29,\n",
       "        64,  75,  12,  25,  28,  30,  65,  59,  64,  53,  71,  97,  73,\n",
       "         9,  12,  63,  99,  60,  35,   2,  60,  32,  94,  84,  63,  22,\n",
       "        81,  93,  33,   7,  42,  46,  54,  16,  49,  43,  95,  66,  21,\n",
       "        35,  80,  37,  54,  56,   1,  32,  58,  32,  46,  72,  17,  97,\n",
       "        93,  91,  37,   4,  54,  51,  27,  46,  92,  73,  77,  91,  61,\n",
       "        99,   4,  72,  19,  57,  78,  26,  74,  90,  66,  13,  40,  77,\n",
       "        67,  75,  23,  45,  59,  44,  23,  55,  55,  95,  12,   4,   7,\n",
       "       100,  48,  42,  96,  39, 100,  87,  14,  14,  37,   5,  88,  91,\n",
       "        65,  74,  56,  16,   5,  28,  92,  46,  54,  39,  44,  31,  68,\n",
       "        86,  90,  38,  21,  95,  56,  60,  65,  78,  89,   6,  67,  36,\n",
       "        16, 100,  45,  73,  57,  20,  76,  34,  55,  72,  55,   8,  56,\n",
       "        72,  58,   6,  96,  23,  58,  23,  19,  25,  64,  21,  59,  19,\n",
       "        16,  42,  43,  61,  92,  11,  41,   1,   8,  71,  46,  55,  62,\n",
       "        47])"
      ]
     },
     "execution_count": 17,
     "metadata": {},
     "output_type": "execute_result"
    }
   ],
   "source": [
    "#Selecting Corresponding Features\n",
    "X = test['x'].values\n",
    "y = test['y'].values\n",
    "X"
   ]
  },
  {
   "cell_type": "code",
   "execution_count": 36,
   "metadata": {},
   "outputs": [
    {
     "name": "stdout",
     "output_type": "stream",
     "text": [
      "<class 'pandas.core.frame.DataFrame'>\n",
      "RangeIndex: 300 entries, 0 to 299\n",
      "Data columns (total 2 columns):\n",
      " #   Column  Non-Null Count  Dtype  \n",
      "---  ------  --------------  -----  \n",
      " 0   x       300 non-null    int64  \n",
      " 1   y       300 non-null    float64\n",
      "dtypes: float64(1), int64(1)\n",
      "memory usage: 4.8 KB\n"
     ]
    }
   ],
   "source": [
    "test.info()"
   ]
  },
  {
   "cell_type": "code",
   "execution_count": 37,
   "metadata": {},
   "outputs": [
    {
     "name": "stdout",
     "output_type": "stream",
     "text": [
      "count    300.000000\n",
      "mean      50.936667\n",
      "std       28.504286\n",
      "min        0.000000\n",
      "25%       27.000000\n",
      "50%       53.000000\n",
      "75%       73.000000\n",
      "max      100.000000\n",
      "Name: x, dtype: float64\n"
     ]
    }
   ],
   "source": [
    "print(test['x'].describe())\n"
   ]
  },
  {
   "cell_type": "code",
   "execution_count": 38,
   "metadata": {},
   "outputs": [
    {
     "name": "stdout",
     "output_type": "stream",
     "text": [
      "count    300.000000\n",
      "mean      51.205051\n",
      "std       29.071481\n",
      "min       -3.467884\n",
      "25%       25.676502\n",
      "50%       52.170557\n",
      "75%       74.303007\n",
      "max      105.591837\n",
      "Name: y, dtype: float64\n"
     ]
    }
   ],
   "source": [
    "print(test['y'].describe())\n"
   ]
  },
  {
   "cell_type": "code",
   "execution_count": 18,
   "metadata": {},
   "outputs": [
    {
     "data": {
      "text/plain": [
       "array([[ 77],\n",
       "       [ 21],\n",
       "       [ 22],\n",
       "       [ 20],\n",
       "       [ 36],\n",
       "       [ 15],\n",
       "       [ 62],\n",
       "       [ 95],\n",
       "       [ 20],\n",
       "       [  5],\n",
       "       [  4],\n",
       "       [ 19],\n",
       "       [ 96],\n",
       "       [ 62],\n",
       "       [ 36],\n",
       "       [ 15],\n",
       "       [ 65],\n",
       "       [ 14],\n",
       "       [ 87],\n",
       "       [ 69],\n",
       "       [ 89],\n",
       "       [ 51],\n",
       "       [ 89],\n",
       "       [ 27],\n",
       "       [ 97],\n",
       "       [ 58],\n",
       "       [ 79],\n",
       "       [ 21],\n",
       "       [ 93],\n",
       "       [ 27],\n",
       "       [ 99],\n",
       "       [ 31],\n",
       "       [ 33],\n",
       "       [ 80],\n",
       "       [ 28],\n",
       "       [ 47],\n",
       "       [ 53],\n",
       "       [ 69],\n",
       "       [ 28],\n",
       "       [ 33],\n",
       "       [ 91],\n",
       "       [ 71],\n",
       "       [ 50],\n",
       "       [ 76],\n",
       "       [  4],\n",
       "       [ 37],\n",
       "       [ 70],\n",
       "       [ 68],\n",
       "       [ 40],\n",
       "       [ 35],\n",
       "       [ 94],\n",
       "       [ 88],\n",
       "       [ 52],\n",
       "       [ 31],\n",
       "       [ 59],\n",
       "       [  0],\n",
       "       [ 39],\n",
       "       [ 64],\n",
       "       [ 69],\n",
       "       [ 57],\n",
       "       [ 13],\n",
       "       [ 72],\n",
       "       [ 76],\n",
       "       [ 61],\n",
       "       [ 82],\n",
       "       [ 18],\n",
       "       [ 41],\n",
       "       [ 50],\n",
       "       [ 55],\n",
       "       [ 13],\n",
       "       [ 46],\n",
       "       [ 13],\n",
       "       [ 79],\n",
       "       [ 53],\n",
       "       [ 15],\n",
       "       [ 28],\n",
       "       [ 81],\n",
       "       [ 69],\n",
       "       [ 52],\n",
       "       [ 84],\n",
       "       [ 68],\n",
       "       [ 27],\n",
       "       [ 56],\n",
       "       [ 48],\n",
       "       [ 40],\n",
       "       [ 39],\n",
       "       [ 82],\n",
       "       [100],\n",
       "       [ 59],\n",
       "       [ 43],\n",
       "       [ 67],\n",
       "       [ 38],\n",
       "       [ 63],\n",
       "       [ 91],\n",
       "       [ 60],\n",
       "       [ 14],\n",
       "       [ 21],\n",
       "       [ 87],\n",
       "       [ 73],\n",
       "       [ 32],\n",
       "       [  2],\n",
       "       [ 82],\n",
       "       [ 19],\n",
       "       [ 74],\n",
       "       [ 42],\n",
       "       [ 12],\n",
       "       [  1],\n",
       "       [ 90],\n",
       "       [ 89],\n",
       "       [  0],\n",
       "       [ 41],\n",
       "       [ 16],\n",
       "       [ 94],\n",
       "       [ 97],\n",
       "       [ 66],\n",
       "       [ 24],\n",
       "       [ 17],\n",
       "       [ 90],\n",
       "       [ 13],\n",
       "       [  0],\n",
       "       [ 64],\n",
       "       [ 96],\n",
       "       [ 98],\n",
       "       [ 12],\n",
       "       [ 41],\n",
       "       [ 47],\n",
       "       [ 78],\n",
       "       [ 20],\n",
       "       [ 89],\n",
       "       [ 29],\n",
       "       [ 64],\n",
       "       [ 75],\n",
       "       [ 12],\n",
       "       [ 25],\n",
       "       [ 28],\n",
       "       [ 30],\n",
       "       [ 65],\n",
       "       [ 59],\n",
       "       [ 64],\n",
       "       [ 53],\n",
       "       [ 71],\n",
       "       [ 97],\n",
       "       [ 73],\n",
       "       [  9],\n",
       "       [ 12],\n",
       "       [ 63],\n",
       "       [ 99],\n",
       "       [ 60],\n",
       "       [ 35],\n",
       "       [  2],\n",
       "       [ 60],\n",
       "       [ 32],\n",
       "       [ 94],\n",
       "       [ 84],\n",
       "       [ 63],\n",
       "       [ 22],\n",
       "       [ 81],\n",
       "       [ 93],\n",
       "       [ 33],\n",
       "       [  7],\n",
       "       [ 42],\n",
       "       [ 46],\n",
       "       [ 54],\n",
       "       [ 16],\n",
       "       [ 49],\n",
       "       [ 43],\n",
       "       [ 95],\n",
       "       [ 66],\n",
       "       [ 21],\n",
       "       [ 35],\n",
       "       [ 80],\n",
       "       [ 37],\n",
       "       [ 54],\n",
       "       [ 56],\n",
       "       [  1],\n",
       "       [ 32],\n",
       "       [ 58],\n",
       "       [ 32],\n",
       "       [ 46],\n",
       "       [ 72],\n",
       "       [ 17],\n",
       "       [ 97],\n",
       "       [ 93],\n",
       "       [ 91],\n",
       "       [ 37],\n",
       "       [  4],\n",
       "       [ 54],\n",
       "       [ 51],\n",
       "       [ 27],\n",
       "       [ 46],\n",
       "       [ 92],\n",
       "       [ 73],\n",
       "       [ 77],\n",
       "       [ 91],\n",
       "       [ 61],\n",
       "       [ 99],\n",
       "       [  4],\n",
       "       [ 72],\n",
       "       [ 19],\n",
       "       [ 57],\n",
       "       [ 78],\n",
       "       [ 26],\n",
       "       [ 74],\n",
       "       [ 90],\n",
       "       [ 66],\n",
       "       [ 13],\n",
       "       [ 40],\n",
       "       [ 77],\n",
       "       [ 67],\n",
       "       [ 75],\n",
       "       [ 23],\n",
       "       [ 45],\n",
       "       [ 59],\n",
       "       [ 44],\n",
       "       [ 23],\n",
       "       [ 55],\n",
       "       [ 55],\n",
       "       [ 95],\n",
       "       [ 12],\n",
       "       [  4],\n",
       "       [  7],\n",
       "       [100],\n",
       "       [ 48],\n",
       "       [ 42],\n",
       "       [ 96],\n",
       "       [ 39],\n",
       "       [100],\n",
       "       [ 87],\n",
       "       [ 14],\n",
       "       [ 14],\n",
       "       [ 37],\n",
       "       [  5],\n",
       "       [ 88],\n",
       "       [ 91],\n",
       "       [ 65],\n",
       "       [ 74],\n",
       "       [ 56],\n",
       "       [ 16],\n",
       "       [  5],\n",
       "       [ 28],\n",
       "       [ 92],\n",
       "       [ 46],\n",
       "       [ 54],\n",
       "       [ 39],\n",
       "       [ 44],\n",
       "       [ 31],\n",
       "       [ 68],\n",
       "       [ 86],\n",
       "       [ 90],\n",
       "       [ 38],\n",
       "       [ 21],\n",
       "       [ 95],\n",
       "       [ 56],\n",
       "       [ 60],\n",
       "       [ 65],\n",
       "       [ 78],\n",
       "       [ 89],\n",
       "       [  6],\n",
       "       [ 67],\n",
       "       [ 36],\n",
       "       [ 16],\n",
       "       [100],\n",
       "       [ 45],\n",
       "       [ 73],\n",
       "       [ 57],\n",
       "       [ 20],\n",
       "       [ 76],\n",
       "       [ 34],\n",
       "       [ 55],\n",
       "       [ 72],\n",
       "       [ 55],\n",
       "       [  8],\n",
       "       [ 56],\n",
       "       [ 72],\n",
       "       [ 58],\n",
       "       [  6],\n",
       "       [ 96],\n",
       "       [ 23],\n",
       "       [ 58],\n",
       "       [ 23],\n",
       "       [ 19],\n",
       "       [ 25],\n",
       "       [ 64],\n",
       "       [ 21],\n",
       "       [ 59],\n",
       "       [ 19],\n",
       "       [ 16],\n",
       "       [ 42],\n",
       "       [ 43],\n",
       "       [ 61],\n",
       "       [ 92],\n",
       "       [ 11],\n",
       "       [ 41],\n",
       "       [  1],\n",
       "       [  8],\n",
       "       [ 71],\n",
       "       [ 46],\n",
       "       [ 55],\n",
       "       [ 62],\n",
       "       [ 47]])"
      ]
     },
     "execution_count": 18,
     "metadata": {},
     "output_type": "execute_result"
    }
   ],
   "source": [
    "# create a column vector\n",
    "X=X.reshape(-1,1)\n",
    "X"
   ]
  },
  {
   "cell_type": "code",
   "execution_count": 19,
   "metadata": {},
   "outputs": [
    {
     "name": "stdout",
     "output_type": "stream",
     "text": [
      "X_train shape (240, 1)\n",
      "y_train shape (240,)\n",
      "X_test shape (60, 1)\n",
      "y_test shape (60,)\n",
      "[ 47.41006725  60.20758349  51.10774273  25.75612514  36.94173178\n",
      "  29.31770045  91.59548851  56.82457013  19.1315097   42.84526108\n",
      "  10.41468095  97.61793701  48.09843134  69.39858505  52.45103628\n",
      "  90.65513736  67.68142149   9.24113898  14.05572877  54.09063686\n",
      "  78.39683006  40.03504862  -2.81991397  78.79008525  24.68362712\n",
      "  97.13832018  53.11628433  19.38780134  96.58888601  24.3884599\n",
      "   5.6340309   18.98322306  14.82248589 103.5266162   40.00709598\n",
      "  75.7584178   99.78687252  39.3294153   67.2352155   74.68953276\n",
      "  31.32274932  72.86282528  47.49374765  45.44599591  16.68715211\n",
      "  16.74923937  99.87382707   2.81141583  46.69013968  89.899991\n",
      "  85.45504157  53.52042319  23.17727887  21.71380347  89.73951993\n",
      "  75.69298554  36.06292994  77.22982636  45.96396877  68.16724757]\n"
     ]
    }
   ],
   "source": [
    "\n",
    "# X_feature - Years Experience\n",
    "# y_output - test in $\n",
    "x_train, x_test, y_train, y_test = train_test_split(X,y,train_size=0.8,test_size=0.2,random_state=100)\n",
    "print(f\"X_train shape {x_train.shape}\")\n",
    "print(f\"y_train shape {y_train.shape}\")\n",
    "print(f\"X_test shape {x_test.shape}\")\n",
    "print(f\"y_test shape {y_test.shape}\")\n",
    "print(y_test)"
   ]
  },
  {
   "cell_type": "code",
   "execution_count": 20,
   "metadata": {},
   "outputs": [
    {
     "data": {
      "image/png": "[encoded data removed]",
      "text/plain": [
       "<Figure size 432x288 with 1 Axes>"
      ]
     },
     "metadata": {
      "needs_background": "light"
     },
     "output_type": "display_data"
    }
   ],
   "source": [
    "%matplotlib inline\n",
    "plt.scatter(x_train,y_train,color='red')\n",
    "plt.xlabel('Years of experience')\n",
    "plt.ylabel('test in $')\n",
    "plt.title('Training data')\n",
    "plt.show()"
   ]
  },
  {
   "cell_type": "code",
   "execution_count": 21,
   "metadata": {},
   "outputs": [
    {
     "name": "stdout",
     "output_type": "stream",
     "text": [
      "Train accuracy 98.98 %\n",
      "Test accuracy 98.65 %\n"
     ]
    }
   ],
   "source": [
    "lm = LinearRegression()\n",
    "lm.fit(x_train,y_train)\n",
    "y_predict = lm.predict(x_test)\n",
    "print(f\"Train accuracy {round(lm.score(x_train,y_train)*100,2)} %\")\n",
    "print(f\"Test accuracy {round(lm.score(x_test,y_test)*100,2)} %\")"
   ]
  },
  {
   "cell_type": "code",
   "execution_count": 22,
   "metadata": {},
   "outputs": [
    {
     "data": {
      "text/plain": [
       "<function matplotlib.pyplot.plot(*args, scalex=True, scaley=True, data=None, **kwargs)>"
      ]
     },
     "execution_count": 22,
     "metadata": {},
     "output_type": "execute_result"
    },
    {
     "data": {
      "image/png": "[encoded data removed]",
      "text/plain": [
       "<Figure size 432x288 with 1 Axes>"
      ]
     },
     "metadata": {
      "needs_background": "light"
     },
     "output_type": "display_data"
    }
   ],
   "source": [
    "\n",
    "plt.scatter(x_train,y_train,color='red')\n",
    "plt.plot(x_test,y_predict)\n",
    "plt.xlabel(\"Years of Experience\")\n",
    "plt.ylabel(\"test in $\")\n",
    "plt.title(\"Trained model plot\")\n",
    "plt.plot"
   ]
  },
  {
   "cell_type": "code",
   "execution_count": 23,
   "metadata": {},
   "outputs": [
    {
     "name": "stdout",
     "output_type": "stream",
     "text": [
      "After 20 years your salaray is predicted to be $19\n"
     ]
    }
   ],
   "source": [
    "num_years = 20\n",
    "test_predict = lm.predict([[num_years]])[0]\n",
    "print(f\"After {num_years} years your salaray is predicted to be ${int(test_predict)}\")\n"
   ]
  },
  {
   "cell_type": "code",
   "execution_count": 24,
   "metadata": {},
   "outputs": [
    {
     "data": {
      "text/plain": [
       "0.9864980078429514"
      ]
     },
     "execution_count": 24,
     "metadata": {},
     "output_type": "execute_result"
    }
   ],
   "source": [
    "from sklearn.metrics import r2_score\n",
    "r2_score(y_test, y_predict)\n"
   ]
  },
  {
   "cell_type": "code",
   "execution_count": 25,
   "metadata": {},
   "outputs": [],
   "source": [
    "import seaborn as sns\n"
   ]
  },
  {
   "cell_type": "code",
   "execution_count": 26,
   "metadata": {},
   "outputs": [
    {
     "data": {
      "text/plain": [
       "<AxesSubplot:>"
      ]
     },
     "execution_count": 26,
     "metadata": {},
     "output_type": "execute_result"
    },
    {
     "data": {
      "image/png": "[encoded data removed]",
      "text/plain": [
       "<Figure size 432x288 with 1 Axes>"
      ]
     },
     "metadata": {
      "needs_background": "light"
     },
     "output_type": "display_data"
    }
   ],
   "source": [
    "sns.regplot(x=x_train, y=y_train, order=2)\n"
   ]
  },
  {
   "cell_type": "code",
   "execution_count": null,
   "metadata": {},
   "outputs": [],
   "source": []
  },
  {
   "cell_type": "code",
   "execution_count": null,
   "metadata": {},
   "outputs": [],
   "source": []
  },
  {
   "cell_type": "code",
   "execution_count": null,
   "metadata": {},
   "outputs": [],
   "source": []
  },
  {
   "cell_type": "code",
   "execution_count": null,
   "metadata": {},
   "outputs": [],
   "source": []
  },
  {
   "cell_type": "code",
   "execution_count": null,
   "metadata": {},
   "outputs": [],
   "source": []
  },
  {
   "cell_type": "code",
   "execution_count": null,
   "metadata": {},
   "outputs": [],
   "source": []
  },
  {
   "cell_type": "code",
   "execution_count": null,
   "metadata": {},
   "outputs": [],
   "source": []
  }
 ],
 "metadata": {
  "kernelspec": {
   "display_name": "Python 3",
   "language": "python",
   "name": "python3"
  },
  "language_info": {
   "codemirror_mode": {
    "name": "ipython",
    "version": 3
   },
   "file_extension": ".py",
   "mimetype": "text/x-python",
   "name": "python",
   "nbconvert_exporter": "python",
   "pygments_lexer": "ipython3",
   "version": "3.8.5"
  },
  "metadata": {
   "interpreter": {
    "hash": "7d6993cb2f9ce9a59d5d7380609d9cb5192a9dedd2735a011418ad9e827eb538"
   }
  }
 },
 "nbformat": 4,
 "nbformat_minor": 4
}
